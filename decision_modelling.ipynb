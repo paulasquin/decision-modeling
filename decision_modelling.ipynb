{
 "cells": [
  {
   "cell_type": "markdown",
   "metadata": {},
   "source": [
    "# Dependencies"
   ]
  },
  {
   "cell_type": "code",
   "execution_count": 1,
   "metadata": {},
   "outputs": [],
   "source": [
    "import pandas as pd\n",
    "import numpy as np\n",
    "from constraint import *\n",
    "import random\n",
    "from scipy import optimize as spopt"
   ]
  },
  {
   "cell_type": "code",
   "execution_count": 2,
   "metadata": {},
   "outputs": [],
   "source": [
    "DISTANCE_DATASET_PATH = \"distances.xlsx\"\n",
    "INDEX_VALUES_DATASET_PATH = \"index_values.csv\"\n",
    "INITIAL_DISTRIBUTION_DATASET_PATH = \"initial_distribution.txt\"\n",
    "N_SELLERS = 4\n",
    "N_BRICKS = 22"
   ]
  },
  {
   "cell_type": "markdown",
   "metadata": {},
   "source": [
    "# Dataset loader"
   ]
  },
  {
   "cell_type": "code",
   "execution_count": 3,
   "metadata": {},
   "outputs": [],
   "source": [
    "class Dataset:\n",
    "    def __init__(self, distance_dataset_path, index_values_dataset_path, initial_distribution_dataset_path):\n",
    "        # Store dataset path\n",
    "        self.distance_dataset_path = distance_dataset_path\n",
    "        self.index_values_dataset_path = index_values_dataset_path\n",
    "        self.initial_distribution_dataset_path = initial_distribution_dataset_path\n",
    "        \n",
    "        # Read dataset\n",
    "        self.read_distances()\n",
    "        self.read_index_values()\n",
    "        self.read_initial_distribution()\n",
    "    \n",
    "    def read_distances(self):\n",
    "        \"\"\"\n",
    "        Load and store the data from the excel sheet provided in the object\n",
    "        \"\"\"\n",
    "        # Load first sheet \n",
    "        brick_bureau = pd.read_excel(self.distance_dataset_path, skiprows=[0], sheet_name=0, header=0, index_col=1, dtype=str)\n",
    "        # Drop empty cells of the first column\n",
    "        brick_bureau = brick_bureau.drop(labels=brick_bureau.columns[0], axis=1)\n",
    "        \n",
    "        # Load second sheet\n",
    "        brick_brick = pd.read_excel(self.distance_dataset_path, sheet_name=1, header=1, index_col=1, dtype=str)\n",
    "        # Drop emty cells of the first column\n",
    "        brick_brick = brick_brick.drop(labels=brick_brick.columns[0], axis=1)\n",
    "        \n",
    "        # Store in self\n",
    "        self.brick_bureau = brick_bureau\n",
    "        self.brick_brick = brick_brick\n",
    "        \n",
    "        \n",
    "    def read_index_values(self):\n",
    "        \"\"\" Read index values, les_v\n",
    "        \"\"\"\n",
    "        self.index_values = np.genfromtxt(self.index_values_dataset_path, delimiter=',')\n",
    "    \n",
    "    def read_initial_distribution(self):\n",
    "        \"\"\" Read initial state of bricks distribution betweek sellers: les_a\n",
    "        \"\"\"\n",
    "        with open(self.initial_distribution_dataset_path, \"r\") as file:\n",
    "            raw_data = file.read().split(\"\\n\")\n",
    "            # remove header\n",
    "            raw_data.pop(0)\n",
    "            initial_distribution = []\n",
    "            for line in raw_data:\n",
    "                line.replace(\" \", \"\")\n",
    "#                 id_seller = line.split(\":\")[0]\n",
    "                les_id_bricks = line.split(\":\")[1].split(\",\")\n",
    "                initial_distribution.append(les_id_bricks)\n",
    "        \n",
    "        les_a = np.zeros((N_SELLERS, N_BRICKS))\n",
    "        for id_seller in range(len(initial_distribution)):\n",
    "            for id_brick in initial_distribution[id_seller]:\n",
    "                les_a[id_seller, int(id_brick)-1] = 1\n",
    "        \n",
    "        self.initial_affectation = les_a\n",
    "        \n",
    "    \n",
    "    def disp_dataset(self):\n",
    "        for dataset in [self.brick_brick, self.brick_brick, self.index_values, self.initial_affectation]:\n",
    "            print(\"\")\n",
    "            print(\"=\"*20)\n",
    "            print(dataset)\n",
    "    \n",
    "        \n",
    "        \n",
    "dataset = Dataset(DISTANCE_DATASET_PATH, INDEX_VALUES_DATASET_PATH, INITIAL_DISTRIBUTION_DATASET_PATH)"
   ]
  },
  {
   "cell_type": "code",
   "execution_count": 4,
   "metadata": {},
   "outputs": [],
   "source": [
    "# dataset.disp_dataset()"
   ]
  },
  {
   "cell_type": "markdown",
   "metadata": {},
   "source": [
    "# Problem definition"
   ]
  },
  {
   "cell_type": "markdown",
   "metadata": {},
   "source": [
    "### VARIABLES\n",
    "- $x_{ij}$ ; = 1 if seller `i` is allocated to brick `j`, 0 otherwise.  \n",
    "\n",
    "### PARAMETERS\n",
    "- $d_{ij}$ ; distance from office of seller `i` to the brick `j`  \n",
    "- $v_j$ ; index value of the `j` brick\n",
    "- $a_{ij}$ ; = 1 if seller `i` was originally allocated to brick `j`, 0 otherwise.  \n"
   ]
  },
  {
   "cell_type": "markdown",
   "metadata": {},
   "source": [
    "## Minimize total distance traveled\n",
    "\n",
    "We want to minimize the total traveled distance, then we want to minimize:  \n",
    "$\\underset{i=1}{\\overset{4}{\\sum}}\\underset{j=1}{\\overset{22}{\\sum}}x_{ij}d_{ij}$  "
   ]
  },
  {
   "cell_type": "markdown",
   "metadata": {},
   "source": [
    "## Minimize imbalance in workload\n",
    "\n",
    "We want to minimize the maximum of difference between the workers. They have to share 1/4 of the sum of the index values of bricks. Then, we want to minimize the absolute difference between this value and the seller workload.  \n",
    "This way, we want to minimize:  \n",
    "$\\underset{i\\in\\{1, 2, 3, 4\\}}{max}\\left(\\frac{\\underset{j=1}{\\overset{22}{\\sum}} x_{ij}v_j}{\\frac{1}{4} \\underset{j=1}{\\overset{22}{\\sum}} v_j}\\right)$"
   ]
  },
  {
   "cell_type": "markdown",
   "metadata": {},
   "source": [
    "## Minimize distruption\n",
    "\n",
    "We want to minimize the changes from the previous model to the new one, leading to minimizing:  \n",
    "$\\underset{i=1}{\\overset{4}{\\sum}}\\underset{j=1}{\\overset{22}{\\sum}}x_{ij}(1-a_{ij})v_j$"
   ]
  },
  {
   "cell_type": "markdown",
   "metadata": {},
   "source": [
    "- x: Matrix of shape number_of_seller=4 * number_of_bricks=22 with 0 or 1\n",
    "- a: Same shape than x\n",
    "- d: Matrix of shape number_of_seller=4 * number_of_bricks=22 with float"
   ]
  },
  {
   "cell_type": "markdown",
   "metadata": {},
   "source": [
    "## Domain"
   ]
  },
  {
   "cell_type": "markdown",
   "metadata": {},
   "source": [
    "$\\forall i \\in [1, 4], \\forall j \\in [1, 22], x_{ij} \\in \\{0, 1\\}$"
   ]
  },
  {
   "cell_type": "markdown",
   "metadata": {},
   "source": [
    "## Constraints"
   ]
  },
  {
   "cell_type": "markdown",
   "metadata": {},
   "source": [
    "- 1 brick affectation to 1 seller  \n",
    "$\\rightarrow \\forall j \\in [0, 22], \\underset{i=1}{\\overset{4}{\\sum}}x_{ij} = 1$\n",
    "- Work imbalance between 80% and 120%:  \n",
    "$\\rightarrow$ work imbalance is set as a constraint. `const_imbalance_worload(les_x)` $\\in [0.8, 1.2]$\n"
   ]
  },
  {
   "cell_type": "markdown",
   "metadata": {},
   "source": [
    "## Tools"
   ]
  },
  {
   "cell_type": "code",
   "execution_count": 5,
   "metadata": {},
   "outputs": [],
   "source": [
    "class Tools:\n",
    "    @staticmethod\n",
    "    def get_total_workload(les_v):\n",
    "        return np.sum(les_v)\n",
    "    \n",
    "    @staticmethod\n",
    "    def flatten(les_x):\n",
    "        \"\"\" Flatten a numpy array\"\"\"\n",
    "        return les_x.reshape(-1)\n",
    "    \n",
    "    @staticmethod\n",
    "    def reshape(les_x):\n",
    "        \"\"\" Reshape a numpy array to the shape (N_SELLERS, N_BRICKS)\"\"\"\n",
    "        \n",
    "        if les_x.shape != (N_SELLERS, N_BRICKS):\n",
    "            les_x = les_x.reshape((N_SELLERS, N_BRICKS))\n",
    "        return les_x\n",
    "    \n",
    "    "
   ]
  },
  {
   "cell_type": "markdown",
   "metadata": {},
   "source": [
    "## Costs"
   ]
  },
  {
   "cell_type": "code",
   "execution_count": 6,
   "metadata": {},
   "outputs": [],
   "source": [
    "class Cost:\n",
    "    \n",
    "    def __init__(self, les_d, les_v, les_a):\n",
    "        self.les_d = les_d\n",
    "        self.les_v = les_v\n",
    "        self.les_a = les_a\n",
    "        self.total_workload = Tools.get_total_workload(self.les_v)\n",
    "        \n",
    "        \n",
    "    def cost_distance(self, les_x):\n",
    "        \"\"\" Return cost regarding distances\n",
    "        :param les_x: matrix numpy, with x[i, j] set to 1 if seller i have to cover brick j\n",
    "        \n",
    "        :return cost: cost value regarding distances\n",
    "        \"\"\"\n",
    "        return np.sum(les_x * self.les_d)\n",
    "    \n",
    "    \n",
    "    def cost_imbalance_worload(self, les_x):\n",
    "        \"\"\" Return cost regarding imbalance workload\n",
    "        :param les_x: matrix numpy, with x[i, j] set to 1 if seller i have to cover brick j\n",
    "        \n",
    "        :return cost: cost value regarding imbalance workloard\n",
    "        \"\"\"\n",
    "        \n",
    "        les_workload = [np.abs(0.25*self.total_workload - np.sum(les_x_seller * self.les_v)) for les_x_seller in les_x]\n",
    "        return np.max(les_workload)\n",
    "    \n",
    "    \n",
    "    def cost_disruption(self, les_x):\n",
    "        \"\"\" Return cost regarding disruption\"\"\"\n",
    "        return np.sum(les_x * ( 1 - self.les_a )*self.les_v )\n",
    "    \n",
    "    \n",
    "    def cost_weight_distance_disruption(self, les_x, alpha=0.5):\n",
    "        \"\"\"Weighted cost function to minimize distance and disruption with provided alpha\n",
    "        :param les_x: matrix numpy, with x[i, j] set to 1 if seller i have to cover brick j\n",
    "        :param alpha: float, default=0.5, weight of the distance cost function (1-alpha is given to disruption)\n",
    "        \n",
    "        :return cost: weighted cost value with distances and disruption\n",
    "        \"\"\"\n",
    "        \n",
    "        les_x = Tools.reshape(les_x)\n",
    "        \n",
    "        return alpha*self.cost_distance(les_x) + (1-alpha)*self.cost_disruption(les_x)\n",
    "    \n",
    "    "
   ]
  },
  {
   "cell_type": "markdown",
   "metadata": {},
   "source": [
    "## Constraints"
   ]
  },
  {
   "cell_type": "code",
   "execution_count": 7,
   "metadata": {},
   "outputs": [],
   "source": [
    "class Constraint:\n",
    "    \n",
    "    def __init__(self, les_d, les_v, les_a):\n",
    "        self.les_d = les_d\n",
    "        self.les_v = les_v\n",
    "        self.les_a = les_a\n",
    "        self.total_workload = Tools.get_total_workload(self.les_v)\n",
    "    \n",
    "    \n",
    "    def const_imbalance_workload(self, les_x):\n",
    "        les_workload = [np.sum(les_x_seller * self.les_v)/(0.25*self.total_workload) for les_x_seller in les_x]\n",
    "        return np.array(les_workload)\n",
    "    \n",
    "    \n",
    "    def const_unity_allocation(self, les_x, brick_index):\n",
    "        return np.sum(les_x[:,brick_index])\n",
    "    \n",
    "        "
   ]
  },
  {
   "cell_type": "markdown",
   "metadata": {},
   "source": [
    "## Optimizer"
   ]
  },
  {
   "cell_type": "code",
   "execution_count": 17,
   "metadata": {},
   "outputs": [],
   "source": [
    "class Optimizer:\n",
    "    def __init__(self, coster, constrainer):\n",
    "        self.coster = coster\n",
    "        self.constrainer = constrainer\n",
    "    \n",
    "    \n",
    "    def const_1(self, les_x):\n",
    "        \"\"\" Constrain regarding 'every brick is allocated to 1 seller' \"\"\"\n",
    "        \n",
    "        les_x = Tools.reshape(les_x)\n",
    "        \n",
    "        les_unity_allocation = []\n",
    "        for j in range(N_SELLERS):\n",
    "            les_unity_allocation.append(self.constrainer.const_unity_allocation(les_x, j) - 1)\n",
    "        return np.sum(les_unity_allocation)\n",
    "    \n",
    "    \n",
    "    def const_2(self, les_x):\n",
    "        \"\"\" Constrain regarding worked is not working less than 80% of average \"\"\"\n",
    "        \n",
    "        les_x = Tools.reshape(les_x)\n",
    "        \n",
    "        return self.constrainer.const_imbalance_workload(les_x) - 0.8\n",
    "    \n",
    "    \n",
    "    def const_3(self, les_x):\n",
    "        \"\"\" Constrain regarding worked is not working more than 120% of average \"\"\"\n",
    "        \n",
    "        les_x = Tools.reshape(les_x)\n",
    "        \n",
    "        return 1.2 - self.constrainer.const_imbalance_workload(les_x)\n",
    "    \n",
    "    def const_4(self, les_x):\n",
    "        \"\"\" Ensure the sum of les x is equal to the number of brick\"\"\"\n",
    "        return np.sum(les_x) - N_BRICKS\n",
    "    \n",
    "    def const_5(self, les_x):\n",
    "        \"\"\" Ensure max is 1\"\"\"\n",
    "        return np.max(les_x) - 1\n",
    "    \n",
    "    def const_6(self, les_x):\n",
    "        \"\"\" Ensure min is 0\"\"\"\n",
    "        return np.min(les_x)\n",
    "    \n",
    "    \n",
    "    def minimize(self, fun, les_x0):\n",
    "        \n",
    "        # Let's define constraints. For eq, have to be equal to 0. For ineq, have to be positive.\n",
    "        cons = [{'type':'eq', 'fun': self.const_1},\n",
    "                {'type':'ineq', 'fun': self.const_2},\n",
    "                {'type':'ineq', 'fun': self.const_3},\n",
    "                {'type':'eq', 'fun': self.const_4},\n",
    "                {'type':'eq', 'fun': self.const_6}]\n",
    "        \n",
    "        return spopt.minimize(fun, les_x0, constraints=cons, options={'disp': True})\n",
    "        \n",
    "        "
   ]
  },
  {
   "cell_type": "code",
   "execution_count": 22,
   "metadata": {},
   "outputs": [
    {
     "name": "stdout",
     "output_type": "stream",
     "text": [
      "Singular matrix C in LSQ subproblem    (Exit mode 6)\n",
      "            Current function value: 186.70695000000003\n",
      "            Iterations: 1\n",
      "            Function evaluations: 90\n",
      "            Gradient evaluations: 1\n",
      "random x\n",
      "[[0. 0. 0. 1. 0. 1. 0. 0. 0. 0. 0. 0. 1. 0. 0. 0. 1. 0. 1. 1. 1. 0.]\n",
      " [1. 0. 0. 0. 1. 0. 0. 0. 0. 0. 0. 0. 0. 1. 0. 0. 0. 0. 0. 0. 0. 0.]\n",
      " [0. 1. 0. 0. 0. 0. 0. 1. 0. 0. 1. 1. 0. 0. 0. 1. 0. 1. 0. 0. 0. 1.]\n",
      " [0. 0. 1. 0. 0. 0. 1. 0. 1. 1. 0. 0. 0. 0. 1. 0. 0. 0. 0. 0. 0. 0.]]\n",
      "Computed result\n",
      "[[0. 0. 0. 1. 0. 1. 0. 0. 0. 0. 0. 0. 1. 0. 0. 0. 1. 0. 1. 1. 1. 0.]\n",
      " [1. 0. 0. 0. 1. 0. 0. 0. 0. 0. 0. 0. 0. 1. 0. 0. 0. 0. 0. 0. 0. 0.]\n",
      " [0. 1. 0. 0. 0. 0. 0. 1. 0. 0. 1. 1. 0. 0. 0. 1. 0. 1. 0. 0. 0. 1.]\n",
      " [0. 0. 1. 0. 0. 0. 1. 0. 1. 1. 0. 0. 0. 0. 1. 0. 0. 0. 0. 0. 0. 0.]]\n"
     ]
    }
   ],
   "source": [
    "class Interface:\n",
    "    \n",
    "    def __init__(self):\n",
    "        self.dataset = Dataset(DISTANCE_DATASET_PATH, INDEX_VALUES_DATASET_PATH, INITIAL_DISTRIBUTION_DATASET_PATH)\n",
    "        self.les_d = self.get_les_d()\n",
    "        self.les_v = self.get_les_v()\n",
    "        self.les_a = self.get_les_a()\n",
    "        self.les_x_test = self.generate_les_x_test()\n",
    "        \n",
    "        self.coster = Cost(les_d=self.les_d, les_v=self.les_v, les_a=self.les_a)\n",
    "        \n",
    "        self.constrainer = Constraint(les_d=self.les_d, les_v=self.les_v, les_a=self.les_a)\n",
    "        \n",
    "        self.optimizer = Optimizer(self.coster, self.constrainer)\n",
    "\n",
    "    \n",
    "    def get_les_d(self):\n",
    "        \"\"\" Return value of distances betweek sellers office and bricks\n",
    "        \"\"\"\n",
    "        les_d = np.array(self.dataset.brick_bureau, dtype=np.float).transpose()\n",
    "        return les_d\n",
    "    \n",
    "    \n",
    "    def get_les_v(self):\n",
    "        \"\"\" Return index values of brickes, with les_v[j] = index value of brick j\n",
    "        \"\"\"\n",
    "        les_v = self.dataset.index_values.reshape((1, -1))\n",
    "        return les_v\n",
    "\n",
    "    \n",
    "    def get_les_a(self):\n",
    "        \"\"\" Return les a\"\"\"\n",
    "        les_a = self.dataset.initial_affectation\n",
    "        return les_a\n",
    "    \n",
    "    \n",
    "    def generate_les_x_test(self):\n",
    "        \"\"\"\n",
    "        To test cost function, we need to generate a false affectation of seller to bricks.\n",
    "        Thus, we create a random affectation.\n",
    "        \"\"\"\n",
    "        # Create a x_test matrix, inversed shape, with line corresponding to bricks, columns to sellers\n",
    "        les_x_test = np.zeros((N_BRICKS, N_SELLERS))\n",
    "        \n",
    "        # Put one 1 per line, to affect each brick to a seller\n",
    "        for id_line in range(len(les_x_test)):\n",
    "            id_one = random.randint(0, len(les_x_test[id_line]) - 1)\n",
    "            les_x_test[id_line, id_one] = 1\n",
    "        \n",
    "        # Lets transpose the matrix, as we want seller as rows.\n",
    "        les_x_test = les_x_test.transpose()\n",
    "        return les_x_test\n",
    "    \n",
    "    \n",
    "    def test_cost_distance(self):\n",
    "        print(\"Test cost distance\")\n",
    "        print(self.coster.cost_distance(les_x=self.les_x_test))\n",
    "        \n",
    "        \n",
    "    def test_cost_imbalance_worload(self):\n",
    "        print(\"Test cost imbalance\")\n",
    "        print(self.coster.cost_imbalance_worload(les_x=self.les_x_test))\n",
    "        \n",
    "    def test_cost_distruption(self):\n",
    "        print(\"Test cost disruption\")\n",
    "        print(self.coster.cost_disruption(les_x=self.les_x_test))\n",
    "        \n",
    "    def test_const_imbalance_workload(self):\n",
    "        print(\"Test const imbalance workload\")\n",
    "        print(self.constrainer.const_imbalance_workload(les_x=self.les_x_test))\n",
    "        \n",
    "    def test_const_unity_allocation(self):\n",
    "        les_unit = []\n",
    "        for j in range(N_BRICKS):\n",
    "            les_unit.append(self.constrainer.const_unity_allocation(les_x=self.les_x_test, brick_index=j))\n",
    "        \n",
    "        print(les_unit)\n",
    "        \n",
    "    \n",
    "    def optimize(self):\n",
    "        fun = self.coster.cost_weight_distance_disruption\n",
    "        les_x0 = self.les_x_test\n",
    "        res = self.optimizer.minimize(fun, les_x0)\n",
    "        self.res = res\n",
    "    \n",
    "    def show_results(self):\n",
    "        print(\"random x\")\n",
    "        print(self.les_x_test)\n",
    "        print(\"Computed result\")\n",
    "        resx = Tools.reshape(self.res.x)\n",
    "        print(resx)\n",
    "        \n",
    "        \n",
    "            \n",
    "    \n",
    "interfacer = Interface()\n",
    "# interfacer.test_cost_distance()\n",
    "# interfacer.test_cost_imbalance_worload()\n",
    "# interfacer.test_cost_distruption()\n",
    "\n",
    "# interfacer.test_const_imbalance_workload()\n",
    "# interfacer.test_const_unity_allocation()\n",
    "\n",
    "interfacer.optimize()\n",
    "interfacer.show_results()"
   ]
  },
  {
   "cell_type": "code",
   "execution_count": 19,
   "metadata": {},
   "outputs": [
    {
     "name": "stdout",
     "output_type": "stream",
     "text": [
      "22.0\n",
      "[[0. 1. 0. 0. 0. 0. 0. 0. 0. 1. 0. 0. 0. 1. 0. 0. 0. 0. 1. 1. 0. 0.]\n",
      " [0. 0. 1. 0. 0. 0. 1. 0. 0. 0. 0. 1. 1. 0. 1. 1. 0. 0. 0. 0. 1. 1.]\n",
      " [0. 0. 0. 0. 1. 1. 0. 0. 1. 0. 0. 0. 0. 0. 0. 0. 1. 0. 0. 0. 0. 0.]\n",
      " [1. 0. 0. 1. 0. 0. 0. 1. 0. 0. 1. 0. 0. 0. 0. 0. 0. 1. 0. 0. 0. 0.]]\n"
     ]
    }
   ],
   "source": [
    "print(x_result)\n"
   ]
  },
  {
   "cell_type": "code",
   "execution_count": null,
   "metadata": {},
   "outputs": [],
   "source": [
    "np.s"
   ]
  }
 ],
 "metadata": {
  "kernelspec": {
   "display_name": "Python 3",
   "language": "python",
   "name": "python3"
  },
  "language_info": {
   "codemirror_mode": {
    "name": "ipython",
    "version": 3
   },
   "file_extension": ".py",
   "mimetype": "text/x-python",
   "name": "python",
   "nbconvert_exporter": "python",
   "pygments_lexer": "ipython3",
   "version": "3.7.1"
  }
 },
 "nbformat": 4,
 "nbformat_minor": 2
}
